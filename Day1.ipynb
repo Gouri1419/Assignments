{
  "nbformat": 4,
  "nbformat_minor": 0,
  "metadata": {
    "colab": {
      "provenance": [],
      "authorship_tag": "ABX9TyMuuBDuoLSBrUlRTNWjXB/I",
      "include_colab_link": true
    },
    "kernelspec": {
      "name": "python3",
      "display_name": "Python 3"
    },
    "language_info": {
      "name": "python"
    }
  },
  "cells": [
    {
      "cell_type": "markdown",
      "metadata": {
        "id": "view-in-github",
        "colab_type": "text"
      },
      "source": [
        "<a href=\"https://colab.research.google.com/github/Gouri1419/Assignments/blob/main/Day1.ipynb\" target=\"_parent\"><img src=\"https://colab.research.google.com/assets/colab-badge.svg\" alt=\"Open In Colab\"/></a>"
      ]
    },
    {
      "cell_type": "code",
      "execution_count": 1,
      "metadata": {
        "colab": {
          "base_uri": "https://localhost:8080/"
        },
        "id": "nWo36bT1ZNEE",
        "outputId": "1b0cad9f-e153-44f2-bceb-14b69a02c7e7"
      },
      "outputs": [
        {
          "output_type": "stream",
          "name": "stdout",
          "text": [
            "Value: 10, Type: <class 'int'>\n",
            "Value: 3.14, Type: <class 'float'>\n",
            "Value: Hello, World!, Type: <class 'str'>\n",
            "Value: True, Type: <class 'bool'>\n"
          ]
        }
      ],
      "source": [
        "# Declare variables of different data types\n",
        "integer_var = 10\n",
        "float_var = 3.14\n",
        "string_var = \"Hello, World!\"\n",
        "boolean_var = True\n",
        "\n",
        "# Print each variable and its type\n",
        "print(f\"Value: {integer_var}, Type: {type(integer_var)}\")\n",
        "print(f\"Value: {float_var}, Type: {type(float_var)}\")\n",
        "print(f\"Value: {string_var}, Type: {type(string_var)}\")\n",
        "print(f\"Value: {boolean_var}, Type: {type(boolean_var)}\")"
      ]
    }
  ]
}